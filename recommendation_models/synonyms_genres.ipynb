{
 "cells": [
  {
   "cell_type": "code",
   "execution_count": 1,
   "metadata": {},
   "outputs": [],
   "source": [
    "sentence = \"I'd like to see a happy movie\""
   ]
  },
  {
   "cell_type": "code",
   "execution_count": 2,
   "metadata": {},
   "outputs": [],
   "source": [
    "import pandas as pd"
   ]
  },
  {
   "cell_type": "code",
   "execution_count": 3,
   "metadata": {},
   "outputs": [],
   "source": [
    "data = pd.read_csv('final_english_dataset_with_preprocess_on_overview.csv')"
   ]
  },
  {
   "cell_type": "code",
   "execution_count": 4,
   "metadata": {},
   "outputs": [],
   "source": [
    "from nltk.stem import WordNetLemmatizer\n",
    "lemmatizer = WordNetLemmatizer()\n"
   ]
  },
  {
   "cell_type": "code",
   "execution_count": 5,
   "metadata": {},
   "outputs": [],
   "source": [
    "from nltk.corpus import wordnet as wn\n",
    "\n",
    "# Function to get synonyms and related words for a given word\n",
    "def get_related_words(word):\n",
    "    related_words = set()\n",
    "    for synset in wn.synsets(word):\n",
    "        for hypernym in synset.hypernyms():\n",
    "            for lemma in hypernym.lemmas():\n",
    "                related_words.add(lemmatizer.lemmatize(lemma.name().lower()))\n",
    "    return related_words\n"
   ]
  },
  {
   "cell_type": "code",
   "execution_count": 6,
   "metadata": {},
   "outputs": [],
   "source": [
    "def get_synonyms(word):\n",
    "    synonyms = set()\n",
    "    for synset in wn.synsets(word):\n",
    "        for lemma in synset.lemmas():\n",
    "            synonyms.add(lemmatizer.lemmatize(lemma.name().lower()))\n",
    "    return synonyms"
   ]
  },
  {
   "cell_type": "code",
   "execution_count": 7,
   "metadata": {},
   "outputs": [],
   "source": [
    "def get_derived_words(word):\n",
    "    derived_words = set()\n",
    "    for synset in wn.synsets(word):\n",
    "        for lemma in synset.lemmas():\n",
    "            forms = lemma.derivationally_related_forms()\n",
    "            for form in forms:\n",
    "                name = form.name()\n",
    "                derived_words.add(lemmatizer.lemmatize(name.lower()))    \n",
    "    return derived_words"
   ]
  },
  {
   "cell_type": "code",
   "execution_count": 8,
   "metadata": {},
   "outputs": [],
   "source": [
    "def expand_genre_keywords(genres):\n",
    "    expanded_keywords = {}\n",
    "    for genre in genres:\n",
    "        keywords = set()  \n",
    "        keywords.add(genre)\n",
    "        if genre == \"Drama\":\n",
    "            keywords.add(\"sad\")\n",
    "        if genre == \"Comedy\": \n",
    "            keywords.add(\"happy\")\n",
    "        for keyword in keywords.copy():\n",
    "            synonyms = get_synonyms(keyword)\n",
    "            related_words = get_related_words(keyword)\n",
    "            derived_words = get_derived_words(keyword)\n",
    "            keywords.update(synonyms)\n",
    "            keywords.update(related_words)\n",
    "            keywords.update(derived_words)\n",
    "        if genre in keywords:\n",
    "            keywords.remove(genre)\n",
    "        expanded_keywords[genre] = list(keywords)  \n",
    "    return expanded_keywords\n"
   ]
  },
  {
   "cell_type": "code",
   "execution_count": 9,
   "metadata": {},
   "outputs": [],
   "source": [
    "def get_list_data (column_name, data) :\n",
    "    liste_data = set()\n",
    "    for genres_list in data[column_name]:\n",
    "        genres_list = eval(genres_list)  \n",
    "        liste_data.update(genres_list)\n",
    "    return liste_data"
   ]
  },
  {
   "cell_type": "code",
   "execution_count": 10,
   "metadata": {},
   "outputs": [],
   "source": [
    "all_genres = get_list_data('genres', data)\n",
    "genre_keywords = expand_genre_keywords(all_genres)"
   ]
  },
  {
   "cell_type": "code",
   "execution_count": 11,
   "metadata": {},
   "outputs": [
    {
     "data": {
      "text/plain": [
       "['expanded_keywords.pkl']"
      ]
     },
     "execution_count": 11,
     "metadata": {},
     "output_type": "execute_result"
    }
   ],
   "source": [
    "import joblib\n",
    "joblib.dump(genre_keywords, 'expanded_keywords.pkl')\n"
   ]
  },
  {
   "cell_type": "code",
   "execution_count": 12,
   "metadata": {},
   "outputs": [],
   "source": [
    "import re\n",
    "def find_genre(sentence, expanded_keywords):\n",
    "    words = [lemmatizer.lemmatize(word.lower()) for word in re.split(r'\\W+', sentence) if word]\n",
    "    words = [word for word in words if word not in ['film', 'movie']]\n",
    "    for genre, keywords in expanded_keywords.items():\n",
    "        if any(word in words for word in keywords):\n",
    "            return genre\n",
    "    return None"
   ]
  },
  {
   "cell_type": "code",
   "execution_count": 13,
   "metadata": {},
   "outputs": [
    {
     "data": {
      "text/plain": [
       "'Comedy'"
      ]
     },
     "execution_count": 13,
     "metadata": {},
     "output_type": "execute_result"
    }
   ],
   "source": [
    "find_genre(sentence, genre_keywords)"
   ]
  }
 ],
 "metadata": {
  "kernelspec": {
   "display_name": "Python 3",
   "language": "python",
   "name": "python3"
  },
  "language_info": {
   "codemirror_mode": {
    "name": "ipython",
    "version": 3
   },
   "file_extension": ".py",
   "mimetype": "text/x-python",
   "name": "python",
   "nbconvert_exporter": "python",
   "pygments_lexer": "ipython3",
   "version": "3.7.9"
  }
 },
 "nbformat": 4,
 "nbformat_minor": 2
}
