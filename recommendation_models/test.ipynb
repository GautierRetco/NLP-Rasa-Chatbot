{
 "cells": [
  {
   "cell_type": "code",
   "execution_count": 2,
   "metadata": {},
   "outputs": [],
   "source": [
    "import recommendation\n",
    "import pandas as pd\n",
    "import joblib"
   ]
  },
  {
   "cell_type": "code",
   "execution_count": 4,
   "metadata": {},
   "outputs": [],
   "source": [
    "data = pd.read_csv(\"./final_english_dataset_with_preprocess_on_overview.csv\")\n",
    "cos_sim = joblib.load('./matrix_similarity.pkl')"
   ]
  },
  {
   "cell_type": "code",
   "execution_count": 17,
   "metadata": {},
   "outputs": [],
   "source": [
    "query = {'target_movie_title': \"I'd like a movie like Little Miss Sunshine\", 'set': {'cast': [\"I'd like a movie with Christian Bale\"]}}"
   ]
  },
  {
   "cell_type": "code",
   "execution_count": 18,
   "metadata": {},
   "outputs": [
    {
     "name": "stdout",
     "output_type": "stream",
     "text": [
      "I'd like a movie like Little Miss Sunshine\n"
     ]
    },
    {
     "ename": "IndexError",
     "evalue": "list index out of range",
     "output_type": "error",
     "traceback": [
      "\u001b[0;31m---------------------------------------------------------------------------\u001b[0m",
      "\u001b[0;31mIndexError\u001b[0m                                Traceback (most recent call last)",
      "Cell \u001b[0;32mIn[18], line 1\u001b[0m\n\u001b[0;32m----> 1\u001b[0m \u001b[43mrecommendation\u001b[49m\u001b[38;5;241;43m.\u001b[39;49m\u001b[43mget_recommendations\u001b[49m\u001b[43m(\u001b[49m\u001b[43mquery\u001b[49m\u001b[43m,\u001b[49m\u001b[43m \u001b[49m\u001b[43mdata\u001b[49m\u001b[43m,\u001b[49m\u001b[43m \u001b[49m\u001b[43mcos_sim\u001b[49m\u001b[43m)\u001b[49m\n",
      "File \u001b[0;32m~/Documents/MCE/NLP/NLP-Rasa-Chatbot/recommendation_models/recommendation.py:115\u001b[0m, in \u001b[0;36mget_recommendations\u001b[0;34m(dictionnary, data, cos_sim)\u001b[0m\n\u001b[1;32m    114\u001b[0m \u001b[38;5;28;01mdef\u001b[39;00m \u001b[38;5;21mget_recommendations\u001b[39m(dictionnary, data, cos_sim):\n\u001b[0;32m--> 115\u001b[0m     final_dictionnary \u001b[38;5;241m=\u001b[39m \u001b[43msimilarity_extraction_in_dict\u001b[49m\u001b[43m(\u001b[49m\u001b[43mdictionnary\u001b[49m\u001b[43m,\u001b[49m\u001b[43mdata\u001b[49m\u001b[43m)\u001b[49m\n\u001b[1;32m    116\u001b[0m     keys \u001b[38;5;241m=\u001b[39m final_dictionnary\u001b[38;5;241m.\u001b[39mkeys()\n\u001b[1;32m    117\u001b[0m     \u001b[38;5;28;01mif\u001b[39;00m \u001b[38;5;124m'\u001b[39m\u001b[38;5;124mtarget_movie_title\u001b[39m\u001b[38;5;124m'\u001b[39m \u001b[38;5;129;01min\u001b[39;00m keys : \n",
      "File \u001b[0;32m~/Documents/MCE/NLP/NLP-Rasa-Chatbot/recommendation_models/recommendation.py:32\u001b[0m, in \u001b[0;36msimilarity_extraction_in_dict\u001b[0;34m(dictionnary, data)\u001b[0m\n\u001b[1;32m     30\u001b[0m \u001b[38;5;28;01mif\u001b[39;00m \u001b[38;5;28misinstance\u001b[39m(value, \u001b[38;5;28mstr\u001b[39m) \u001b[38;5;129;01mand\u001b[39;00m key \u001b[38;5;241m!=\u001b[39m\u001b[38;5;124m'\u001b[39m\u001b[38;5;124mtopic\u001b[39m\u001b[38;5;124m'\u001b[39m:\n\u001b[1;32m     31\u001b[0m     entities \u001b[38;5;241m=\u001b[39m extract_entities_from_text(value)\n\u001b[0;32m---> 32\u001b[0m     entity \u001b[38;5;241m=\u001b[39m \u001b[43mentities\u001b[49m\u001b[43m[\u001b[49m\u001b[38;5;241;43m0\u001b[39;49m\u001b[43m]\u001b[49m\n\u001b[1;32m     33\u001b[0m     \u001b[38;5;28;01mif\u001b[39;00m key \u001b[38;5;241m==\u001b[39m \u001b[38;5;124m'\u001b[39m\u001b[38;5;124mtarget_movie_title\u001b[39m\u001b[38;5;124m'\u001b[39m:\n\u001b[1;32m     34\u001b[0m         entity \u001b[38;5;241m=\u001b[39m find_closest_match_fuzzy(entity, data[\u001b[38;5;124m'\u001b[39m\u001b[38;5;124moriginal_title\u001b[39m\u001b[38;5;124m'\u001b[39m]\u001b[38;5;241m.\u001b[39mtolist())\n",
      "\u001b[0;31mIndexError\u001b[0m: list index out of range"
     ]
    }
   ],
   "source": [
    "recommendation.get_recommendations(query, data, cos_sim)"
   ]
  },
  {
   "cell_type": "code",
   "execution_count": 8,
   "metadata": {},
   "outputs": [
    {
     "name": "stdout",
     "output_type": "stream",
     "text": [
      "I'd like a romantic movie\n"
     ]
    },
    {
     "data": {
      "text/plain": [
       "[]"
      ]
     },
     "execution_count": 8,
     "metadata": {},
     "output_type": "execute_result"
    }
   ],
   "source": [
    "recommendation.extract_entities_from_text(\"I'd like a romantic movie\")"
   ]
  },
  {
   "cell_type": "code",
   "execution_count": 9,
   "metadata": {},
   "outputs": [
    {
     "name": "stdout",
     "output_type": "stream",
     "text": [
      "'Top Gun' WORK_OF_ART\n"
     ]
    }
   ],
   "source": [
    "import spacy\n",
    "from spacy.training import Example\n",
    "\n",
    "# Charger le modèle de base\n",
    "nlp = spacy.load(\"en_core_web_sm\")\n",
    "\n",
    "# Préparer les données d'entraînement (exemples annotés)\n",
    "train_data = [(\"I really like the movie Little Miss Sunshine\", {\"entities\": [(0, len(\"Little Miss Sunshine\"), \"WORK_OF_ART\")]}),  # Exemple annoté\n",
    "              (\"I would like a movie similar to Top Gun\", {\"entities\": [(0, len(\"\"), \"FILM\")]})]     # Exemple annoté\n",
    "\n",
    "# Fine-tuning du modèle\n",
    "for i in range(10):  # Nombre d'époques d'entraînement\n",
    "    for text, annotations in train_data:\n",
    "        doc = nlp.make_doc(text)\n",
    "        example = Example.from_dict(doc, annotations)\n",
    "        nlp.update([example], losses={})\n",
    "\n",
    "# Évaluation sur un ensemble de validation\n",
    "# À adapter selon votre cas d'utilisation\n",
    "\n",
    "# Utilisation du modèle fine-tuné\n",
    "doc = nlp(\"I really like the movie 'Top Gun'\")\n",
    "for ent in doc.ents:\n",
    "    print(ent.text, ent.label_)\n"
   ]
  }
 ],
 "metadata": {
  "kernelspec": {
   "display_name": "NLP",
   "language": "python",
   "name": "python3"
  },
  "language_info": {
   "codemirror_mode": {
    "name": "ipython",
    "version": 3
   },
   "file_extension": ".py",
   "mimetype": "text/x-python",
   "name": "python",
   "nbconvert_exporter": "python",
   "pygments_lexer": "ipython3",
   "version": "3.9.18"
  }
 },
 "nbformat": 4,
 "nbformat_minor": 2
}
